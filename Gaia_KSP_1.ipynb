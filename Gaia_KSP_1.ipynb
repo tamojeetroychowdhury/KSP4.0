{
 "cells": [
  {
   "cell_type": "markdown",
   "id": "5e006440",
   "metadata": {},
   "source": [
    "### This is a short tutorial to get you familiar with accessing Gaia data with astroquery"
   ]
  },
  {
   "cell_type": "code",
   "execution_count": 8,
   "id": "fb2af183",
   "metadata": {},
   "outputs": [],
   "source": [
    "from astroquery.gaia import Gaia\n",
    "import astropy.units as u\n",
    "import matplotlib.pyplot as plt\n",
    "import numpy as np"
   ]
  },
  {
   "cell_type": "markdown",
   "id": "b5782b57",
   "metadata": {},
   "source": [
    "Let's say I want to query in a rectagular region around Pleiades, and retrieve the brightest stars closer than 1000 parsecs corresponding to parallax > 1 mas). \n",
    "\n",
    "In SQL queries, Gaia needs RA and Dec in degrees (as far as I know), but usual places define it in hours-minutes-seconds, and degree-minutes-seconds. We can either convert it with astropy, or use string to float conversion. For astropy, look up the syntax/uses of SkyCoord. I'll use the string method here."
   ]
  },
  {
   "cell_type": "code",
   "execution_count": 5,
   "id": "7946c9f2",
   "metadata": {},
   "outputs": [
    {
     "name": "stdout",
     "output_type": "stream",
     "text": [
      "56.00083333333333 57.200833333333335\n",
      "23.51388888888889 24.713888888888892\n"
     ]
    }
   ],
   "source": [
    "s = '03 46 24.2 +24 06 50'\n",
    "c = [float(i) for i in s.split()]\n",
    "ra = c[0]*15 + c[1]/4 + c[2]/240\n",
    "if c[3] >= 0:\n",
    "    dec = c[3] + c[4]/60 + c[5]/3600\n",
    "else:\n",
    "    dec = c[3] - c[4]/60 - c[5]/3600\n",
    "    \n",
    "print(ra - 0.6, ra + 0.6)\n",
    "print(dec - 0.6, dec + 0.6)"
   ]
  },
  {
   "cell_type": "markdown",
   "id": "f331430a",
   "metadata": {},
   "source": [
    "The four basic parts of ADQL queries were discussed yesterday - feel free to ask doubts if you didn't understand. The IS NOT NULL ensures that the column value is not empty for that particular source.  \n",
    "We use these values and define our query inside a string, then pass that string into the Gaia interface as illustrated below:"
   ]
  },
  {
   "cell_type": "code",
   "execution_count": 6,
   "id": "6a2b6f5c",
   "metadata": {},
   "outputs": [
    {
     "name": "stdout",
     "output_type": "stream",
     "text": [
      "INFO: Query finished. [astroquery.utils.tap.core]\n"
     ]
    }
   ],
   "source": [
    "query = '''\n",
    "SELECT top 10000\n",
    "ra, dec, parallax, phot_g_mean_mag, pm\n",
    "FROM gaiadr3.gaia_source\n",
    "WHERE ra > 56 AND ra < 57.2\n",
    "AND dec > 23.51 AND dec < 24.71\n",
    "AND parallax IS NOT NULL\n",
    "AND parallax > 1\n",
    "ORDER BY phot_g_mean_mag\n",
    "'''\n",
    "\n",
    "job = Gaia.launch_job_async(query)\n",
    "r = job.get_results()"
   ]
  },
  {
   "cell_type": "markdown",
   "id": "3b13ba75",
   "metadata": {},
   "source": [
    "Let's try to find the distance to the cluster. Cluster stars will form an overdensity at a particular distance"
   ]
  },
  {
   "cell_type": "code",
   "execution_count": 11,
   "id": "cbcc0d17",
   "metadata": {},
   "outputs": [
    {
     "data": {
      "image/png": "[encoded data removed]",
      "text/plain": [
       "<Figure size 640x480 with 1 Axes>"
      ]
     },
     "metadata": {},
     "output_type": "display_data"
    }
   ],
   "source": [
    "plt.hist(1000/r['parallax'], bins  = 100)\n",
    "plt.show()"
   ]
  },
  {
   "cell_type": "markdown",
   "id": "c45b3799",
   "metadata": {},
   "source": [
    "There's a clear overdensity somewhere around 150 parsecs. Let's filter only those stars using a mask"
   ]
  },
  {
   "cell_type": "code",
   "execution_count": 13,
   "id": "36c01fe2",
   "metadata": {},
   "outputs": [
    {
     "data": {
      "image/png": "[encoded data removed]",
      "text/plain": [
       "<Figure size 640x480 with 1 Axes>"
      ]
     },
     "metadata": {},
     "output_type": "display_data"
    }
   ],
   "source": [
    "mask = r['parallax'] > 5  #so distance < 200 parsecs\n",
    "r1 = r[mask]\n",
    "\n",
    "plt.hist(1000/r1['parallax'], bins = 100)\n",
    "plt.show()"
   ]
  },
  {
   "cell_type": "markdown",
   "id": "d86c1939",
   "metadata": {},
   "source": [
    "I'll stop here, but you can look up np.histogram() to find out ways to get the exact distance from above. \n",
    "\n",
    "Study and implement quality cuts (error bounds etc.) from the other tutorial, then try out the following:\n",
    "\n",
    "1. Query for the brightest stars, and study their distribution in galactic coordinates (look up matplotlib pyplot methods to do it!)\n",
    "2. Query for the closest stars\n",
    "3. Query for more open and globular clusters, study their distribution of pmra and pmdec (proper motions in RA and Dec)\n",
    "4. Query around the galactic centre, and look for possible clumps in pmra-pmdec space.\n",
    "5. Look up the other tables in Gaia datamodel, and list some ways to use that data with our usual astrometric data.\n",
    "\n",
    "Remember to toy around with different quality cuts. DO NOT hesitate to experiment with different properties, and most importantly, have fun! Ping us on Slack in case of any doubts."
   ]
  },
  {
   "cell_type": "code",
   "execution_count": null,
   "id": "8c75ca10",
   "metadata": {},
   "outputs": [],
   "source": []
  }
 ],
 "metadata": {
  "kernelspec": {
   "display_name": "Python 3 (ipykernel)",
   "language": "python",
   "name": "python3"
  },
  "language_info": {
   "codemirror_mode": {
    "name": "ipython",
    "version": 3
   },
   "file_extension": ".py",
   "mimetype": "text/x-python",
   "name": "python",
   "nbconvert_exporter": "python",
   "pygments_lexer": "ipython3",
   "version": "3.8.10"
  }
 },
 "nbformat": 4,
 "nbformat_minor": 5
}
